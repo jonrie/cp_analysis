{
 "cells": [
  {
   "cell_type": "code",
   "execution_count": 1,
   "metadata": {},
   "outputs": [],
   "source": [
    "import os\n",
    "import glob\n",
    "import pandas as pd\n",
    "import numpy as np\n",
    "os.chdir('./output') # refresh kernel if folder is not found"
   ]
  },
  {
   "cell_type": "code",
   "execution_count": 2,
   "metadata": {},
   "outputs": [],
   "source": [
    "path = './'\n",
    "extension = '.parquet'\n",
    "os.chdir(path)\n",
    "batch = glob.glob('level2*{}'.format(extension))\n",
    "\n",
    "batch = batch[:24] # remove specs plates"
   ]
  },
  {
   "cell_type": "code",
   "execution_count": 4,
   "metadata": {},
   "outputs": [],
   "source": [
    "#read in the QC flag file\n",
    "Flags =  pd.read_csv('../QC/level0_passed.csv', sep = ',')\n",
    "Flags['ImageID'] =  Flags['Metadata_plate_map_name'] + \"_\" + Flags['Metadata_Well'] + \"_s\" + Flags['Metadata_Site'].astype(str).str.rstrip('.0')\n",
    "\n",
    "Flags[[\"flag\"]] =  0\n",
    "Flags = Flags[[\"ImageID\", \"flag\"]]\n",
    "\n",
    "flaggeddict = dict(Flags.values)"
   ]
  },
  {
   "cell_type": "code",
   "execution_count": 5,
   "metadata": {},
   "outputs": [
    {
     "name": "stdout",
     "output_type": "stream",
     "text": [
      "level2_P103559.parquet: Final number of images = 3269, Images removed = 93\n",
      "level2_P103560.parquet: Final number of images = 3288, Images removed = 97\n",
      "level2_P103558.parquet: Final number of images = 3315, Images removed = 80\n",
      "level2_P103561.parquet: Final number of images = 3304, Images removed = 95\n",
      "level2_P103562.parquet: Final number of images = 3342, Images removed = 58\n",
      "level2_P103563.parquet: Final number of images = 3313, Images removed = 77\n",
      "level2_P103564.parquet: Final number of images = 3327, Images removed = 78\n",
      "level2_P103565.parquet: Final number of images = 3251, Images removed = 108\n",
      "level2_P103566.parquet: Final number of images = 3297, Images removed = 103\n",
      "level2_P103567.parquet: Final number of images = 3313, Images removed = 84\n",
      "level2_P103568.parquet: Final number of images = 3348, Images removed = 63\n",
      "level2_P103569.parquet: Final number of images = 3327, Images removed = 67\n",
      "level2_P103570.parquet: Final number of images = 3311, Images removed = 91\n",
      "level2_P103555.parquet: Final number of images = 3321, Images removed = 83\n",
      "level2_P103556.parquet: Final number of images = 3365, Images removed = 50\n",
      "level2_P103557.parquet: Final number of images = 3335, Images removed = 67\n",
      "level2_P103571.parquet: Final number of images = 3241, Images removed = 120\n",
      "level2_P103572.parquet: Final number of images = 3378, Images removed = 37\n",
      "level2_P103573.parquet: Final number of images = 3342, Images removed = 71\n",
      "level2_P103587.parquet: Final number of images = 3417, Images removed = 2\n",
      "level2_P103588.parquet: Final number of images = 3322, Images removed = 86\n",
      "level2_P103589.parquet: Final number of images = 0, Images removed = 2710\n",
      "level2_P103590.parquet: Final number of images = 0, Images removed = 2703\n",
      "level2_P103591.parquet: Final number of images = 0, Images removed = 2713\n",
      "level2_P103592.parquet: Final number of images = 0, Images removed = 2687\n",
      "level2_P103593.parquet: Final number of images = 0, Images removed = 2718\n",
      "level2_P103595.parquet: Final number of images = 0, Images removed = 2733\n",
      "level2_P103597.parquet: Final number of images = 0, Images removed = 2691\n"
     ]
    }
   ],
   "source": [
    "#------------------- REMOVE QC FLAGGED images -----------------------------#\n",
    "\n",
    "for plate in batch:\n",
    "    \n",
    "    df = pd.read_parquet(plate)\n",
    "    df['ImageID'] = df['Metadata_plate_map_name'] + \"_\" + df['Metadata_Well'] + \"_s\" + df['Metadata_Site'].astype(str).str.rstrip('.0')\n",
    "    \n",
    "    initial_shape = df.shape[0]  # Number of rows before QC\n",
    "    #print(f\"{plate}: Initial number of images = {initial_shape}\")\n",
    "    \n",
    "    df[\"flag\"] = df[\"ImageID\"].map(flaggeddict)\n",
    "    new_df = df[df['flag'] == 0]\n",
    "    \n",
    "    final_shape = new_df.shape[0]  # Number of rows after QC\n",
    "    removed_images = initial_shape - final_shape  # Number of removed images\n",
    "    print(f\"{plate}: Final number of images = {final_shape}, Images removed = {removed_images}\")\n",
    "    \n",
    "    new_df.to_parquet(f\"level3_{plate.split('_')[1]}\")"
   ]
  }
 ],
 "metadata": {
  "kernelspec": {
   "display_name": "Python 3 (ipykernel)",
   "language": "python",
   "name": "python3"
  },
  "language_info": {
   "codemirror_mode": {
    "name": "ipython",
    "version": 3
   },
   "file_extension": ".py",
   "mimetype": "text/x-python",
   "name": "python",
   "nbconvert_exporter": "python",
   "pygments_lexer": "ipython3",
   "version": "3.10.12"
  }
 },
 "nbformat": 4,
 "nbformat_minor": 4
}
