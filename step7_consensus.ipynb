{
 "cells": [
  {
   "cell_type": "code",
   "execution_count": 1,
   "metadata": {},
   "outputs": [],
   "source": [
    "import os\n",
    "import glob\n",
    "import pandas as pd\n",
    "import numpy as np\n",
    "import pandas as pd\n",
    "import pycytominer\n",
    "import pycytominer.operations\n",
    "\n",
    "os.chdir('./output/')\n",
    "\n",
    "# https://pycytominer.readthedocs.io/en/latest/pycytominer.html"
   ]
  },
  {
   "cell_type": "code",
   "execution_count": 2,
   "metadata": {},
   "outputs": [
    {
     "data": {
      "text/plain": [
       "['level6.parquet']"
      ]
     },
     "execution_count": 2,
     "metadata": {},
     "output_type": "execute_result"
    }
   ],
   "source": [
    "# read input from level 6\n",
    "path = './'\n",
    "extension = '.parquet'\n",
    "os.chdir(path)\n",
    "batch = glob.glob('level6{}'.format(extension))\n",
    "\n",
    "batch"
   ]
  },
  {
   "cell_type": "code",
   "execution_count": 3,
   "metadata": {
    "tags": []
   },
   "outputs": [],
   "source": [
    "df = pd.read_parquet(batch[0])"
   ]
  },
  {
   "cell_type": "code",
   "execution_count": 4,
   "metadata": {
    "tags": []
   },
   "outputs": [
    {
     "name": "stdout",
     "output_type": "stream",
     "text": [
      "A total of 1194 features are detected\n"
     ]
    }
   ],
   "source": [
    "# median, modz (moderated z-score) -- cell-health/1.generate-profiles/2.build-consensus-signatures*\n",
    "\n",
    "for plate in batch:\n",
    "    df = pd.read_parquet(plate)\n",
    "    print(f\"A total of {df.shape[1]} features are detected\")\n",
    "    \n",
    "    df['Metadata_cmpdAndDose'] = df['Metadata_cmpdName'] + \"_\" + df['Metadata_cmpdConc'].astype(str)\n",
    "    \n",
    "    consensus_df = pycytominer.consensus(\n",
    "        profiles=df,\n",
    "        replicate_columns=['Metadata_plate_map_name', 'Metadata_cmpdName', 'Metadata_cmpdConc', 'Metadata_cmpdAndDose', 'Metadata_Well'],\n",
    "        operation=\"modz\"\n",
    "    )\n",
    "    \n",
    "    consensus_df.to_parquet(\"level7_modz_consensus_df_perwell.parquet\")  \n",
    "    "
   ]
  }
 ],
 "metadata": {
  "kernelspec": {
   "display_name": "Python 3 (ipykernel)",
   "language": "python",
   "name": "python3"
  },
  "language_info": {
   "codemirror_mode": {
    "name": "ipython",
    "version": 3
   },
   "file_extension": ".py",
   "mimetype": "text/x-python",
   "name": "python",
   "nbconvert_exporter": "python",
   "pygments_lexer": "ipython3",
   "version": "3.10.12"
  }
 },
 "nbformat": 4,
 "nbformat_minor": 4
}
