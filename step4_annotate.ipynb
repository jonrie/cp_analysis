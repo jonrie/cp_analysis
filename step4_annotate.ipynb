{
 "cells": [
  {
   "cell_type": "code",
   "execution_count": 1,
   "metadata": {},
   "outputs": [],
   "source": [
    "import os\n",
    "import glob\n",
    "import pandas as pd\n",
    "import numpy as np\n",
    "os.chdir('./output')"
   ]
  },
  {
   "cell_type": "code",
   "execution_count": 2,
   "metadata": {},
   "outputs": [
    {
     "data": {
      "text/plain": [
       "['level2_P103558.parquet',\n",
       " 'level2_P103563.parquet',\n",
       " 'level2_P103565.parquet',\n",
       " 'level2_P103566.parquet',\n",
       " 'level2_P103567.parquet',\n",
       " 'level2_P103569.parquet',\n",
       " 'level2_P103556.parquet',\n",
       " 'level2_P103587.parquet',\n",
       " 'level2_P103588.parquet',\n",
       " 'level2_P103559.parquet',\n",
       " 'level2_P103562.parquet',\n",
       " 'level2_P103572.parquet',\n",
       " 'level2_P103561.parquet',\n",
       " 'level2_P103570.parquet',\n",
       " 'level2_P103557.parquet',\n",
       " 'level2_P103571.parquet',\n",
       " 'level2_P103555.parquet',\n",
       " 'level2_P103573.parquet',\n",
       " 'level2_P103564.parquet',\n",
       " 'level2_P103568.parquet',\n",
       " 'level2_P103560.parquet']"
      ]
     },
     "execution_count": 2,
     "metadata": {},
     "output_type": "execute_result"
    }
   ],
   "source": [
    "path = './'\n",
    "extension = '.parquet'\n",
    "os.chdir(path)\n",
    "batch = glob.glob('level2*{}'.format(extension))\n",
    "batch"
   ]
  },
  {
   "cell_type": "code",
   "execution_count": 3,
   "metadata": {},
   "outputs": [
    {
     "data": {
      "text/html": [
       "<div>\n",
       "<style scoped>\n",
       "    .dataframe tbody tr th:only-of-type {\n",
       "        vertical-align: middle;\n",
       "    }\n",
       "\n",
       "    .dataframe tbody tr th {\n",
       "        vertical-align: top;\n",
       "    }\n",
       "\n",
       "    .dataframe thead th {\n",
       "        text-align: right;\n",
       "    }\n",
       "</style>\n",
       "<table border=\"1\" class=\"dataframe\">\n",
       "  <thead>\n",
       "    <tr style=\"text-align: right;\">\n",
       "      <th></th>\n",
       "      <th>Metadata_plate_map_name</th>\n",
       "      <th>Metadata_cmpdName</th>\n",
       "      <th>Metadata_cmpdConc</th>\n",
       "      <th>Metadata_Well</th>\n",
       "    </tr>\n",
       "  </thead>\n",
       "  <tbody>\n",
       "    <tr>\n",
       "      <th>8343</th>\n",
       "      <td>P103588</td>\n",
       "      <td>DMSO</td>\n",
       "      <td>0.3</td>\n",
       "      <td>P19</td>\n",
       "    </tr>\n",
       "    <tr>\n",
       "      <th>8344</th>\n",
       "      <td>P103588</td>\n",
       "      <td>DMSO</td>\n",
       "      <td>0.3</td>\n",
       "      <td>P20</td>\n",
       "    </tr>\n",
       "    <tr>\n",
       "      <th>8345</th>\n",
       "      <td>P103588</td>\n",
       "      <td>DMSO</td>\n",
       "      <td>0.3</td>\n",
       "      <td>P21</td>\n",
       "    </tr>\n",
       "    <tr>\n",
       "      <th>8346</th>\n",
       "      <td>P103588</td>\n",
       "      <td>DMSO</td>\n",
       "      <td>0.3</td>\n",
       "      <td>P22</td>\n",
       "    </tr>\n",
       "    <tr>\n",
       "      <th>8347</th>\n",
       "      <td>P103588</td>\n",
       "      <td>DMSO</td>\n",
       "      <td>0.3</td>\n",
       "      <td>P23</td>\n",
       "    </tr>\n",
       "  </tbody>\n",
       "</table>\n",
       "</div>"
      ],
      "text/plain": [
       "     Metadata_plate_map_name Metadata_cmpdName  Metadata_cmpdConc  \\\n",
       "8343                 P103588              DMSO                0.3   \n",
       "8344                 P103588              DMSO                0.3   \n",
       "8345                 P103588              DMSO                0.3   \n",
       "8346                 P103588              DMSO                0.3   \n",
       "8347                 P103588              DMSO                0.3   \n",
       "\n",
       "     Metadata_Well  \n",
       "8343           P19  \n",
       "8344           P20  \n",
       "8345           P21  \n",
       "8346           P22  \n",
       "8347           P23  "
      ]
     },
     "execution_count": 3,
     "metadata": {},
     "output_type": "execute_result"
    }
   ],
   "source": [
    "#read metadata\n",
    "meta = pd.read_csv('../metadata/LABDESIGN_metadata_SSS-A549-v2.csv', low_memory=False, sep=\",\") # change for each exp\n",
    "meta = meta.rename(columns={\n",
    "                     \"barcode\": \"Metadata_plate_map_name\",\n",
    "                     \"batch_id\": \"Metadata_cmpdName\",\n",
    "                     \"well_id\": \"Metadata_Well\",\n",
    "                     \"cell_line\": \"Metadata_CellLine\",\n",
    "                     \"cmpd_conc\": \"Metadata_cmpdConc\",\n",
    "                     \"cells_per_well\": \"Metadata_CellDensity\"},\n",
    "            errors=\"raise\")\n",
    "\n",
    "meta = meta[['Metadata_plate_map_name','Metadata_cmpdName','Metadata_cmpdConc','Metadata_Well']]\n",
    "meta.tail(5)"
   ]
  },
  {
   "cell_type": "code",
   "execution_count": 6,
   "metadata": {},
   "outputs": [
    {
     "name": "stdout",
     "output_type": "stream",
     "text": [
      "level2_P103558.parquet: Final number of rows after merging = 3386\n",
      "level2_P103558.parquet: WARNING! 9 rows were not matched with metadata.\n",
      "level2_P103563.parquet: Final number of rows after merging = 3381\n",
      "level2_P103563.parquet: WARNING! 9 rows were not matched with metadata.\n",
      "level2_P103565.parquet: Final number of rows after merging = 3359\n",
      "level2_P103565.parquet: All rows successfully matched with metadata.\n",
      "level2_P103566.parquet: Final number of rows after merging = 3391\n",
      "level2_P103566.parquet: WARNING! 9 rows were not matched with metadata.\n",
      "level2_P103567.parquet: Final number of rows after merging = 3397\n",
      "level2_P103567.parquet: All rows successfully matched with metadata.\n",
      "level2_P103569.parquet: Final number of rows after merging = 3385\n",
      "level2_P103569.parquet: WARNING! 9 rows were not matched with metadata.\n",
      "level2_P103556.parquet: Final number of rows after merging = 3406\n",
      "level2_P103556.parquet: WARNING! 9 rows were not matched with metadata.\n",
      "level2_P103587.parquet: Final number of rows after merging = 3419\n",
      "level2_P103587.parquet: All rows successfully matched with metadata.\n",
      "level2_P103588.parquet: Final number of rows after merging = 3408\n",
      "level2_P103588.parquet: All rows successfully matched with metadata.\n",
      "level2_P103559.parquet: Final number of rows after merging = 3362\n",
      "level2_P103559.parquet: All rows successfully matched with metadata.\n",
      "level2_P103562.parquet: Final number of rows after merging = 3391\n",
      "level2_P103562.parquet: WARNING! 9 rows were not matched with metadata.\n",
      "level2_P103572.parquet: Final number of rows after merging = 3415\n",
      "level2_P103572.parquet: All rows successfully matched with metadata.\n",
      "level2_P103561.parquet: Final number of rows after merging = 3399\n",
      "level2_P103561.parquet: All rows successfully matched with metadata.\n",
      "level2_P103570.parquet: Final number of rows after merging = 3393\n",
      "level2_P103570.parquet: WARNING! 9 rows were not matched with metadata.\n",
      "level2_P103557.parquet: Final number of rows after merging = 3393\n",
      "level2_P103557.parquet: WARNING! 9 rows were not matched with metadata.\n",
      "level2_P103571.parquet: Final number of rows after merging = 3361\n",
      "level2_P103571.parquet: All rows successfully matched with metadata.\n",
      "level2_P103555.parquet: Final number of rows after merging = 3404\n",
      "level2_P103555.parquet: All rows successfully matched with metadata.\n",
      "level2_P103573.parquet: Final number of rows after merging = 3413\n",
      "level2_P103573.parquet: All rows successfully matched with metadata.\n",
      "level2_P103564.parquet: Final number of rows after merging = 3396\n",
      "level2_P103564.parquet: WARNING! 9 rows were not matched with metadata.\n",
      "level2_P103568.parquet: Final number of rows after merging = 3402\n",
      "level2_P103568.parquet: WARNING! 9 rows were not matched with metadata.\n",
      "level2_P103560.parquet: Final number of rows after merging = 3376\n",
      "level2_P103560.parquet: WARNING! 9 rows were not matched with metadata.\n"
     ]
    }
   ],
   "source": [
    "collected_df = []\n",
    "for plate in batch:\n",
    "    df = pd.read_parquet(plate)\n",
    "    initial_shape = df.shape[0]  \n",
    "    \n",
    "    #print(f\"{plate}: Initial number of rows = {initial_shape}\")\n",
    "    df = pd.merge(left=meta, right=df, left_on=['Metadata_plate_map_name','Metadata_Well'], right_on=['Metadata_plate_map_name','Metadata_Well'])\n",
    "    final_shape = df.shape[0] \n",
    "    print(f\"{plate}: Final number of rows after merging = {final_shape}\")\n",
    "    if initial_shape == final_shape:\n",
    "        print(f\"{plate}: All rows successfully matched with metadata.\")\n",
    "    else:\n",
    "        print(f\"{plate}: WARNING! {initial_shape - final_shape} rows were not matched with metadata.\")\n",
    "    \n",
    "    df.to_parquet(f\"level4_{plate.split('_')[1]}\")\n",
    "    collected_df.append(df)"
   ]
  },
  {
   "cell_type": "code",
   "execution_count": 10,
   "metadata": {},
   "outputs": [],
   "source": [
    "# merge multiple plates\n",
    "dfs = pd.concat(collected_df)\n",
    "dfs = dfs.loc[:, ~dfs.columns.str.contains(r'Unnamed|flag|_ObjectNumber', case=False, regex=True)]\n",
    "dfs.to_parquet(\"level4_All.parquet\", index=False)"
   ]
  }
 ],
 "metadata": {
  "kernelspec": {
   "display_name": "Python 3 (ipykernel)",
   "language": "python",
   "name": "python3"
  },
  "language_info": {
   "codemirror_mode": {
    "name": "ipython",
    "version": 3
   },
   "file_extension": ".py",
   "mimetype": "text/x-python",
   "name": "python",
   "nbconvert_exporter": "python",
   "pygments_lexer": "ipython3",
   "version": "3.10.12"
  }
 },
 "nbformat": 4,
 "nbformat_minor": 4
}
