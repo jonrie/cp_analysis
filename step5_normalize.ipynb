{
 "cells": [
  {
   "cell_type": "code",
   "execution_count": 1,
   "metadata": {},
   "outputs": [],
   "source": [
    "import os\n",
    "import glob\n",
    "import pandas as pd\n",
    "import numpy as np\n",
    "import pycytominer\n",
    "\n",
    "os.chdir('./output')"
   ]
  },
  {
   "cell_type": "code",
   "execution_count": 2,
   "metadata": {},
   "outputs": [
    {
     "data": {
      "text/plain": [
       "['level4_All.parquet']"
      ]
     },
     "execution_count": 2,
     "metadata": {},
     "output_type": "execute_result"
    }
   ],
   "source": [
    "path = './'\n",
    "extension = '.parquet'\n",
    "os.chdir(path)\n",
    "batch = glob.glob('level4_A*{}'.format(extension)) # choose to either normalize per plate or all plates together!\n",
    "\n",
    "batch"
   ]
  },
  {
   "cell_type": "markdown",
   "metadata": {},
   "source": [
    "# normalize"
   ]
  },
  {
   "cell_type": "code",
   "execution_count": 3,
   "metadata": {},
   "outputs": [
    {
     "name": "stdout",
     "output_type": "stream",
     "text": [
      "level4_All.parquet rows in df: 71237\n"
     ]
    }
   ],
   "source": [
    "# https://github.com/cytomining/pycytominer/blob/main/pycytominer/normalize.py\n",
    "\n",
    "sample_name = \"DMSO\"    # choose between \"all\" or specific group e.g. \"Metadata_treatment == 'DMSO'\"\n",
    "method      = \"mad_robustize\" # 'standardize', 'robustize', 'mad_robustize'\n",
    "\n",
    "collected_df = []\n",
    "\n",
    "for plate in batch:\n",
    "    df = pd.read_parquet(plate)\n",
    "    \n",
    "    print(plate, \"rows in df:\", len(df))\n",
    "    normalized_df = pycytominer.normalize(\n",
    "        profiles= df,\n",
    "        #samples = \"all\",\n",
    "        samples = f\"Metadata_cmpdName == '{sample_name}'\",\n",
    "        method= method)\n",
    "    #normalized_df.to_parquet(\"level5_{}\".format(plate.split('_')[1])) # save each plate\n",
    "    \n",
    "    collected_df.append(normalized_df)\n",
    "\n",
    "dfs = pd.concat(collected_df)\n",
    "dfs.to_parquet(f\"level5_AllPlates_{method}_{sample_name}.parquet\", index=False)\n",
    " "
   ]
  },
  {
   "cell_type": "markdown",
   "metadata": {},
   "source": [
    "_end"
   ]
  }
 ],
 "metadata": {
  "kernelspec": {
   "display_name": "Python 3 (ipykernel)",
   "language": "python",
   "name": "python3"
  },
  "language_info": {
   "codemirror_mode": {
    "name": "ipython",
    "version": 3
   },
   "file_extension": ".py",
   "mimetype": "text/x-python",
   "name": "python",
   "nbconvert_exporter": "python",
   "pygments_lexer": "ipython3",
   "version": "3.10.12"
  }
 },
 "nbformat": 4,
 "nbformat_minor": 4
}
