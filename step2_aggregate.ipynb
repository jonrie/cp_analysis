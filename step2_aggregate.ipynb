{
 "cells": [
  {
   "cell_type": "code",
   "execution_count": 2,
   "metadata": {},
   "outputs": [],
   "source": [
    "import os\n",
    "import glob\n",
    "import pandas as pd\n",
    "import numpy as np\n",
    "import pycytominer\n",
    "os.chdir('./output/')"
   ]
  },
  {
   "cell_type": "code",
   "execution_count": 3,
   "metadata": {},
   "outputs": [
    {
     "data": {
      "text/plain": [
       "['level1_agg_P103559.parquet',\n",
       " 'level1_agg_P103560.parquet',\n",
       " 'level1_agg_P103558.parquet',\n",
       " 'level1_agg_P103561.parquet',\n",
       " 'level1_agg_P103562.parquet',\n",
       " 'level1_agg_P103563.parquet',\n",
       " 'level1_agg_P103564.parquet',\n",
       " 'level1_agg_P103565.parquet',\n",
       " 'level1_agg_P103566.parquet',\n",
       " 'level1_agg_P103567.parquet',\n",
       " 'level1_agg_P103568.parquet',\n",
       " 'level1_agg_P103569.parquet',\n",
       " 'level1_agg_P103570.parquet',\n",
       " 'level1_agg_P103555.parquet',\n",
       " 'level1_agg_P103556.parquet',\n",
       " 'level1_agg_P103557.parquet',\n",
       " 'level1_agg_P103571.parquet',\n",
       " 'level1_agg_P103572.parquet',\n",
       " 'level1_agg_P103573.parquet',\n",
       " 'level1_agg_P103587.parquet',\n",
       " 'level1_agg_P103588.parquet']"
      ]
     },
     "execution_count": 3,
     "metadata": {},
     "output_type": "execute_result"
    }
   ],
   "source": [
    "path = './'\n",
    "extension = '.parquet'\n",
    "os.chdir(path)\n",
    "batch = glob.glob('level1_agg*{}'.format(extension))\n",
    "\n",
    "batch = batch[:24] # remove specs plates\n",
    "batch"
   ]
  },
  {
   "cell_type": "code",
   "execution_count": 3,
   "metadata": {},
   "outputs": [
    {
     "name": "stdout",
     "output_type": "stream",
     "text": [
      "11/23/23 14:37:32\n"
     ]
    }
   ],
   "source": [
    "import datetime\n",
    "x = datetime.datetime.now()\n",
    "date = (x.strftime(\"%x\")) \n",
    "time = (x.strftime(\"%X\")) \n",
    "\n",
    "print(date, time)"
   ]
  },
  {
   "cell_type": "code",
   "execution_count": 4,
   "metadata": {},
   "outputs": [
    {
     "name": "stdout",
     "output_type": "stream",
     "text": [
      "11/23/23 14:37:32\n",
      "660058\n",
      "3362\n",
      "683432\n",
      "3385\n",
      "676694\n",
      "3395\n",
      "634210\n",
      "3399\n",
      "675398\n",
      "3400\n",
      "691179\n",
      "3390\n",
      "700451\n",
      "3405\n",
      "671400\n",
      "3359\n",
      "705455\n",
      "3400\n",
      "679917\n",
      "3397\n",
      "700692\n",
      "3411\n",
      "671554\n",
      "3394\n",
      "661579\n",
      "3402\n",
      "650937\n",
      "3404\n",
      "691174\n",
      "3415\n",
      "675277\n",
      "3402\n",
      "639481\n",
      "3361\n",
      "689139\n",
      "3415\n",
      "693428\n",
      "3413\n",
      "668681\n",
      "3419\n",
      "647590\n",
      "3408\n",
      "369192\n",
      "2710\n",
      "279032\n",
      "2703\n",
      "365124\n",
      "2713\n",
      "282248\n",
      "2687\n",
      "367931\n",
      "2718\n",
      "396589\n",
      "2733\n",
      "365792\n",
      "2691\n",
      "11/23/23 14:37:32\n"
     ]
    }
   ],
   "source": [
    "print(date, time)\n",
    "for plate in batch:\n",
    "    \n",
    "    df = pd.read_parquet(plate)\n",
    "    \n",
    "    df = df.dropna(subset=['ImageID'])\n",
    "    df.rename(columns={'Cytoplasm_ObjectNumber': 'Metadata_ObjectNumber'}, inplace=True)\n",
    "    df.set_index(\"Metadata_ObjectNumber\")\n",
    "    aggregated_df = pycytominer.aggregate(\n",
    "        strata=['Metadata_plate_map_name', 'Metadata_Well', 'Metadata_Site'],\n",
    "        features='infer',\n",
    "        population_df = df,\n",
    "        output_file='none',\n",
    "        operation='mean',\n",
    "        compute_object_count=True,\n",
    "        object_feature='Metadata_ObjectNumber',\n",
    "        compression_options=None)\n",
    "    \n",
    "    print(len(df))\n",
    "    print(len(aggregated_df))\n",
    "    aggregated_df.to_parquet(\"level2_{}\".format(plate.split('_')[2]))\n",
    "\n",
    "print(date, time)"
   ]
  }
 ],
 "metadata": {
  "kernelspec": {
   "display_name": "Python 3 (ipykernel)",
   "language": "python",
   "name": "python3"
  },
  "language_info": {
   "codemirror_mode": {
    "name": "ipython",
    "version": 3
   },
   "file_extension": ".py",
   "mimetype": "text/x-python",
   "name": "python",
   "nbconvert_exporter": "python",
   "pygments_lexer": "ipython3",
   "version": "3.10.12"
  }
 },
 "nbformat": 4,
 "nbformat_minor": 4
}
